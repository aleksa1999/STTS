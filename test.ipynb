{
 "cells": [
  {
   "cell_type": "code",
   "execution_count": null,
   "metadata": {},
   "outputs": [],
   "source": [
    "# torchserve --start --model-store model_store --models model_store/STTS2Encoder.mar,model_store/STTS2Catalan.mar --disable-token-auth  --enable-model-api --foreground --no-config-snapshots\n",
    "# torch-model-archiver -f --model-name STTS2Catalan --version 1.0 --serialized-file NewStyleTTS2Catalan.pth --model-file models.py --export-path model_store --handler handler.py --extra-files config.json\n",
    "# torchserve --start --model-store model_store --models model_store/STTS2Encoder.mar,model_store/STTS2Catalan.mar --workflow-store wf_store/ --disable-token-auth  --enable-model-api --foreground --no-config-snapshots"
   ]
  },
  {
   "cell_type": "code",
   "execution_count": null,
   "metadata": {},
   "outputs": [],
   "source": [
    "audio_file_path = \"reference_audio.mp3\""
   ]
  },
  {
   "cell_type": "markdown",
   "metadata": {},
   "source": [
    "## Testing the Catalan Style Encoder Model by passing Audio file as input"
   ]
  },
  {
   "cell_type": "code",
   "execution_count": null,
   "metadata": {},
   "outputs": [],
   "source": [
    "# Catalan Encoder\n",
    "import requests\n",
    "import os\n",
    "\n",
    "# Define the URL\n",
    "url = \"https://2lfnp43olqz2nv-8080.proxy.runpod.net/predictions/STTS2Encoder\"\n",
    "\n",
    "# Define the file path (assuming the script is running in the same directory as the audio file)\n",
    "file_path = os.path.join(os.getcwd(), audio_file_path)\n",
    "\n",
    "# Open the file in binary mode and send as part of the request\n",
    "with open(file_path, 'rb') as audio_file:\n",
    "    files = {'audio': audio_file}\n",
    "    response = requests.post(url, files=files)\n",
    "\n",
    "# Print the response (optional, for debugging)\n",
    "print(response.status_code)\n",
    "print(response)\n",
    "print(response.json())\n",
    "ref_s = response.json()['ref_s']\n",
    "hash_s = response.json()['hash']"
   ]
  },
  {
   "cell_type": "markdown",
   "metadata": {},
   "source": [
    "## Testing Catalan TTS model"
   ]
  },
  {
   "cell_type": "code",
   "execution_count": null,
   "metadata": {},
   "outputs": [],
   "source": [
    "# Catalan TTS API with ref_s\n",
    "import requests\n",
    "from IPython.display import Audio\n",
    "import IPython.display as ipd\n",
    "# Define the URL\n",
    "url = \"https://2lfnp43olqz2nv-8080.proxy.runpod.net/predictions/STTS2Catalan\"\n",
    "\n",
    "# Define the JSON data\n",
    "data = {\n",
    "    \"text\": \"Quan vaig tornar al poble, aquell estiu, i vaig veure els carrers plens de gent, de música i d’alegria, em vaig sentir com si la vida m’hagués regalat una postal dels meus millors somnis. Aquell somriure que se m’escapava no era només meu; era el batec col·lectiu d’una felicitat compartida, d’instants que mai volen desaparèixer.\",\n",
    "    \"ref_s\": ref_s\n",
    "}\n",
    "\n",
    "# Send the POST request with JSON data\n",
    "response = requests.post(url, json=data)\n",
    "# Preview the audio file\n",
    "ipd.display(Audio(response.content, autoplay=True))"
   ]
  },
  {
   "cell_type": "markdown",
   "metadata": {},
   "source": [
    "## Testing Catalan TTS model with hash(Catalan Style Encoder Hash) as input"
   ]
  },
  {
   "cell_type": "code",
   "execution_count": null,
   "metadata": {},
   "outputs": [],
   "source": [
    "# Catalan TTS API with hash\n",
    "import requests\n",
    "from IPython.display import Audio\n",
    "import IPython.display as ipd\n",
    "# Define the URL\n",
    "url = \"https://2lfnp43olqz2nv-8080.proxy.runpod.net/predictions/STTS2Catalan\"\n",
    "\n",
    "\n",
    "data = {\n",
    "    \"text\": \"hóla sóy maría y téngo ún jamón y háblo cón múchás érrés y múchás éssés\",\n",
    "    \"hash\": hash_s\n",
    "}\n",
    "\n",
    "response = requests.post(url, json=data)\n",
    "# Preview the audio file\n",
    "Audio(response.content, autoplay=True)"
   ]
  },
  {
   "cell_type": "markdown",
   "metadata": {},
   "source": [
    "## Testing the Spanish Style Encoder Model by passing Audio file as input"
   ]
  },
  {
   "cell_type": "code",
   "execution_count": null,
   "metadata": {},
   "outputs": [],
   "source": [
    "# Spanish Encoder\n",
    "import requests\n",
    "import os\n",
    "\n",
    "# Define the URL\n",
    "url = \"https://2lfnp43olqz2nv-8080.proxy.runpod.net/predictions/STTS2SpanishEncoder\"\n",
    "\n",
    "# Define the file path (assuming the script is running in the same directory as the audio file)\n",
    "file_path = os.path.join(os.getcwd(), audio_file_path)\n",
    "\n",
    "# Open the file in binary mode and send as part of the request\n",
    "with open(file_path, 'rb') as audio_file:\n",
    "    files = {'audio': audio_file}\n",
    "    response = requests.post(url, files=files)\n",
    "\n",
    "# Print the response (optional, for debugging)\n",
    "print(response.status_code)\n",
    "print(response)\n",
    "print(response.json())\n",
    "ref_s = response.json()['ref_s']\n",
    "hash_s = response.json()['hash']"
   ]
  },
  {
   "cell_type": "markdown",
   "metadata": {},
   "source": [
    "## Testing Spanish TTS model by passing the Reference Style (ref_s) as a parameter to the function"
   ]
  },
  {
   "cell_type": "code",
   "execution_count": null,
   "metadata": {},
   "outputs": [],
   "source": [
    "# Spanish TTS API with ref_s\n",
    "import requests\n",
    "from IPython.display import Audio\n",
    "import IPython.display as ipd\n",
    "# Define the URL\n",
    "url = \"https://2lfnp43olqz2nv-8080.proxy.runpod.net/predictions/STTS2Spanish\"\n",
    "\n",
    "# Define the JSON data\n",
    "data = {\n",
    "    \"text\": \"Quan vaig tornar al poble, aquell estiu, i vaig veure els carrers plens de gent, de música i d’alegria, em vaig sentir com si la vida m’hagués regalat una postal dels meus millors somnis. Aquell somriure que se m’escapava no era només meu; era el batec col·lectiu d’una felicitat compartida, d’instants que mai volen desaparèixer.\",\n",
    "    \"ref_s\": ref_s\n",
    "}\n",
    "\n",
    "# Send the POST request with JSON data\n",
    "response = requests.post(url, json=data)\n",
    "# Preview the audio file\n",
    "ipd.display(Audio(response.content, autoplay=True))\n"
   ]
  },
  {
   "cell_type": "markdown",
   "metadata": {},
   "source": [
    "## Testing by Passing hash(of Style Encoder ) as a parameter"
   ]
  },
  {
   "cell_type": "code",
   "execution_count": null,
   "metadata": {},
   "outputs": [],
   "source": [
    "# Spanish TTS API with hash\n",
    "import requests\n",
    "from IPython.display import Audio\n",
    "import IPython.display as ipd\n",
    "# Define the URL\n",
    "url = \"https://2lfnp43olqz2nv-8080.proxy.runpod.net/predictions/STTS2Spanish\"\n",
    "\n",
    "# Define the JSON data\n",
    "data = {\n",
    "    \"text\": \"Quan vaig tornar al poble, aquell estiu, i vaig veure els carrers plens de gent, de música i d’alegria, em vaig sentir com si la vida m’hagués regalat una postal dels meus millors somnis. Aquell somriure que se m’escapava no era només meu; era el batec col·lectiu d’una felicitat compartida, d’instants que mai volen desaparèixer.\",\n",
    "    \"hash\": hash_s\n",
    "}\n",
    "\n",
    "# Send the POST request with JSON data\n",
    "response = requests.post(url, json=data)\n",
    "# Preview the audio file\n",
    "ipd.display(Audio(response.content, autoplay=True))\n"
   ]
  },
  {
   "cell_type": "markdown",
   "metadata": {},
   "source": [
    "## Testing with Alpha and Beta"
   ]
  },
  {
   "cell_type": "code",
   "execution_count": null,
   "metadata": {},
   "outputs": [],
   "source": [
    "# Spanish TTS API with hash and alpha beta\n",
    "import requests\n",
    "from IPython.display import Audio\n",
    "\n",
    "# Define the URL\n",
    "url = \"https://2lfnp43olqz2nv-8080.proxy.runpod.net/predictions/STTS2Spanish\"\n",
    "\n",
    "data = {\n",
    "    \"text\": \"hóla sóy maría y téngo ún jamón y háblo cón múchás érrés y múchás éssés\",\n",
    "    \"hash\": hash_s,\n",
    "    \"alpha\": 1.0,\n",
    "    \"beta\": 1.0\n",
    "}\n",
    "\n",
    "response = requests.post(url, json=data)\n",
    "# Preview the audio file\n",
    "Audio(response.content, autoplay=True)"
   ]
  },
  {
   "cell_type": "markdown",
   "metadata": {},
   "source": [
    "## Testing with Diffusion Steps & Embedding Scale"
   ]
  },
  {
   "cell_type": "code",
   "execution_count": null,
   "metadata": {},
   "outputs": [],
   "source": [
    "# Spanish TTS API with hash and diffusion_steps and embedding_scale\n",
    "import requests\n",
    "from IPython.display import Audio\n",
    "\n",
    "# Define the URL\n",
    "url = \"https://2lfnp43olqz2nv-8080.proxy.runpod.net/predictions/STTS2Spanish\"\n",
    "\n",
    "data = {\n",
    "    \"text\": \"hóla sóy maría y téngo ún jamón y háblo cón múchás érrés y múchás éssés\",\n",
    "    \"hash\": hash_s,\n",
    "    \"diffusion_steps\": 10,\n",
    "    \"embedding_scale\": 1\n",
    "}\n",
    "\n",
    "response = requests.post(url, json=data)\n",
    "# Preview the audio file\n",
    "Audio(response.content, autoplay=True)"
   ]
  },
  {
   "cell_type": "markdown",
   "metadata": {},
   "source": [
    "## Stress Testing"
   ]
  },
  {
   "cell_type": "code",
   "execution_count": null,
   "metadata": {},
   "outputs": [],
   "source": [
    "import requests\n",
    "import json\n",
    "import IPython.display as ipd\n",
    "import concurrent.futures\n",
    "import time\n",
    "\n",
    "# Define the URL\n",
    "url = \"http://127.0.0.1:8080/predictions/STTS2Catalan\"\n",
    "url = \"https://2lfnp43olqz2nv-8080.proxy.runpod.net/predictions/STTS2Catalan\"\n",
    "\n",
    "\n",
    "# Define the JSON data\n",
    "data = {\n",
    "    \"text\": \"Quan vaig tornar al poble, aquell estiu, i vaig veure els carrers plens de gent, de música i d’alegria, em vaig sentir com si la vida m’hagués regalat una postal dels meus millors somnis. Aquell somriure que se m’escapava no era només meu; era el batec col·lectiu d’una felicitat compartida, d’instants que mai volen desaparèixer.\",\n",
    "}\n",
    "i=0\n",
    "start_time = time.time()\n",
    "\n",
    "def send_request(data):\n",
    "    global i\n",
    "    response = requests.post(url, json=data)\n",
    "    ipd.display(ipd.Audio(response.content, autoplay=True))\n",
    "    i+=1\n",
    "    print(f\"Completed {i} requests in {time.time() - start_time} seconds\")\n",
    "    return response\n",
    "\n",
    "# Send 10 concurrent POST requests with JSON data\n",
    "with concurrent.futures.ThreadPoolExecutor(max_workers=100) as executor:\n",
    "    futures = [executor.submit(send_request, data) for _ in range(100)]\n",
    "    responses = [future.result() for future in concurrent.futures.as_completed(futures)]\n",
    "\n",
    "print(f\"Time Taken: {time.time() - start_time}\")\n",
    "print(f\"Average Time Taken: {(time.time() - start_time) / 100}\")\n"
   ]
  }
 ],
 "metadata": {
  "kernelspec": {
   "display_name": ".venv",
   "language": "python",
   "name": "python3"
  },
  "language_info": {
   "codemirror_mode": {
    "name": "ipython",
    "version": 3
   },
   "file_extension": ".py",
   "mimetype": "text/x-python",
   "name": "python",
   "nbconvert_exporter": "python",
   "pygments_lexer": "ipython3",
   "version": "3.12.3"
  }
 },
 "nbformat": 4,
 "nbformat_minor": 2
}
